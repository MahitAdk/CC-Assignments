{
  "nbformat": 4,
  "nbformat_minor": 0,
  "metadata": {
    "colab": {
      "provenance": []
    },
    "kernelspec": {
      "name": "python3",
      "display_name": "Python 3"
    },
    "language_info": {
      "name": "python"
    }
  },
  "cells": [
    {
      "cell_type": "markdown",
      "source": [
        "Cognitive Computing\n",
        "\n",
        "Assignment No 1\n",
        "\n",
        "Name:Mahit Raj Adhikari\n",
        "\n",
        "Roll.No:102317108\n",
        "\n",
        "Group:2Q14"
      ],
      "metadata": {
        "id": "_S3nbU1veeJM"
      }
    },
    {
      "cell_type": "code",
      "source": [
        "print('Mahit Raj Adhikari')\n",
        "print('Mahit Raj Adhikari')\n",
        "print('Mahit Raj Adhikari')\n"
      ],
      "metadata": {
        "colab": {
          "base_uri": "https://localhost:8080/"
        },
        "id": "zB3g1oVYffo5",
        "outputId": "985c2775-aec0-4eee-85a4-d30751850155"
      },
      "execution_count": null,
      "outputs": [
        {
          "output_type": "stream",
          "name": "stdout",
          "text": [
            "Mahit Raj Adhikari\n",
            "Mahit Raj Adhikari\n",
            "Mahit Raj Adhikari\n"
          ]
        }
      ]
    },
    {
      "cell_type": "code",
      "source": [
        "a=2\n",
        "b=4\n",
        "c=6\n",
        "d=a+b+c\n",
        "print(d)\n",
        "\n",
        "a1='Hello'\n",
        "b1='Mahit'\n",
        "c1=3\n",
        "d1=a1+b1+str(c1)\n",
        "print(d1)"
      ],
      "metadata": {
        "colab": {
          "base_uri": "https://localhost:8080/"
        },
        "id": "pHqhgp55fhjp",
        "outputId": "43dc36c7-ba2c-4850-b07f-04a2672593ef"
      },
      "execution_count": null,
      "outputs": [
        {
          "output_type": "stream",
          "name": "stdout",
          "text": [
            "12\n",
            "HelloMahit3\n"
          ]
        }
      ]
    },
    {
      "cell_type": "code",
      "source": [
        "n=7\n",
        "m=9\n",
        "for i in range(1,11):\n",
        "  print(n,'x',i,'=',n*i)\n",
        "  print(m,'x',i,'=',m*i)"
      ],
      "metadata": {
        "id": "REfFUQRQf-Jp",
        "colab": {
          "base_uri": "https://localhost:8080/"
        },
        "outputId": "7bf17a12-5499-4e89-edf1-592d86488d81"
      },
      "execution_count": null,
      "outputs": [
        {
          "output_type": "stream",
          "name": "stdout",
          "text": [
            "7 x 1 = 7\n",
            "9 x 1 = 9\n",
            "7 x 2 = 14\n",
            "9 x 2 = 18\n",
            "7 x 3 = 21\n",
            "9 x 3 = 27\n",
            "7 x 4 = 28\n",
            "9 x 4 = 36\n",
            "7 x 5 = 35\n",
            "9 x 5 = 45\n",
            "7 x 6 = 42\n",
            "9 x 6 = 54\n",
            "7 x 7 = 49\n",
            "9 x 7 = 63\n",
            "7 x 8 = 56\n",
            "9 x 8 = 72\n",
            "7 x 9 = 63\n",
            "9 x 9 = 81\n",
            "7 x 10 = 70\n",
            "9 x 10 = 90\n"
          ]
        }
      ]
    },
    {
      "cell_type": "code",
      "source": [
        "n=int(input('Enter the number whose table is to be printed'))\n",
        "for i in range(1,11):\n",
        "  print(n,'x',i,'=',n*i)"
      ],
      "metadata": {
        "colab": {
          "base_uri": "https://localhost:8080/"
        },
        "id": "tVXVmSuu-X_-",
        "outputId": "b9c0e114-ef76-4d9a-f07a-63d91484ff66"
      },
      "execution_count": null,
      "outputs": [
        {
          "output_type": "stream",
          "name": "stdout",
          "text": [
            "Enter the number whose table is to be printed2\n",
            "2 x 1 = 2\n",
            "2 x 2 = 4\n",
            "2 x 3 = 6\n",
            "2 x 4 = 8\n",
            "2 x 5 = 10\n",
            "2 x 6 = 12\n",
            "2 x 7 = 14\n",
            "2 x 8 = 16\n",
            "2 x 9 = 18\n",
            "2 x 10 = 20\n"
          ]
        }
      ]
    },
    {
      "cell_type": "code",
      "source": [
        "n=int(input('Enter the nth term'))\n",
        "s=0\n",
        "for i in range(1,n+1):\n",
        "  s=s+i\n",
        "\n",
        "print(s)"
      ],
      "metadata": {
        "colab": {
          "base_uri": "https://localhost:8080/"
        },
        "id": "gEgzPaSw-ov1",
        "outputId": "7916912d-eece-4376-ff95-01fe67ae86a4"
      },
      "execution_count": null,
      "outputs": [
        {
          "output_type": "stream",
          "name": "stdout",
          "text": [
            "Enter the nth term3\n",
            "6\n"
          ]
        }
      ]
    },
    {
      "cell_type": "code",
      "source": [
        "p=int(input('Enter the first term'))\n",
        "q=int(input('Enter the second term'))\n",
        "r=int(input('Enter the third term'))\n",
        "s=max(p,q,r)\n",
        "print(s)"
      ],
      "metadata": {
        "colab": {
          "base_uri": "https://localhost:8080/"
        },
        "id": "3mrh-JaE-6jO",
        "outputId": "4f6fa322-758b-474c-a2ac-69c37ebfa8ca"
      },
      "execution_count": null,
      "outputs": [
        {
          "output_type": "stream",
          "name": "stdout",
          "text": [
            "Enter the first term4\n",
            "Enter the second term7\n",
            "Enter the third term8\n",
            "8\n"
          ]
        }
      ]
    },
    {
      "cell_type": "code",
      "source": [
        "t = 0  # Initialize total\n",
        "n = int(input(\"Enter the nth term: \"))\n",
        "\n",
        "for i in range(1, n+1):\n",
        "    if i % 7 == 0 and i % 9 == 0:  # Check each number in range\n",
        "        t += i\n",
        "\n",
        "print(t)"
      ],
      "metadata": {
        "colab": {
          "base_uri": "https://localhost:8080/"
        },
        "id": "mBpXjSf5_dM9",
        "outputId": "dfa3708d-e8ba-4a0c-bc4a-e8627b25ed05"
      },
      "execution_count": null,
      "outputs": [
        {
          "output_type": "stream",
          "name": "stdout",
          "text": [
            "Enter the nth term: 67\n",
            "63\n"
          ]
        }
      ]
    },
    {
      "cell_type": "code",
      "source": [
        "n = int(input(\"Enter the upper limit: \"))\n",
        "prime_sum = 0\n",
        "\n",
        "for number in range(2, n + 1):\n",
        "    is_prime = True\n",
        "\n",
        "    for divisor in range(2, int(number**0.5) + 1):\n",
        "        if number % divisor == 0:\n",
        "            is_prime = False\n",
        "            break\n",
        "\n",
        "    if is_prime:\n",
        "        prime_sum += number\n",
        "\n",
        "print(f\"Sum of prime numbers from 1 to {n}: {prime_sum}\")"
      ],
      "metadata": {
        "colab": {
          "base_uri": "https://localhost:8080/"
        },
        "id": "SUl3rQ9WAVld",
        "outputId": "f658307f-1eb1-430a-b6a9-f59e1c2d5a3e"
      },
      "execution_count": null,
      "outputs": [
        {
          "output_type": "stream",
          "name": "stdout",
          "text": [
            "Enter the upper limit: 34\n",
            "Sum of prime numbers from 1 to 34: 160\n"
          ]
        }
      ]
    },
    {
      "cell_type": "code",
      "source": [
        "def add_number(n):\n",
        "  s = 0\n",
        "  for i in range(1, n+1):\n",
        "    if i % 2 != 0:\n",
        "      s = s + i\n",
        "  return s\n",
        "\n",
        "print(add_number(10))\n"
      ],
      "metadata": {
        "colab": {
          "base_uri": "https://localhost:8080/"
        },
        "id": "pJwGV8GeAxjz",
        "outputId": "7ee3ec1f-45da-4585-fca4-ef7c9ced45d2"
      },
      "execution_count": null,
      "outputs": [
        {
          "output_type": "stream",
          "name": "stdout",
          "text": [
            "25\n"
          ]
        }
      ]
    },
    {
      "cell_type": "code",
      "source": [
        "def sum_prime_numbers(n):\n",
        "    if n < 2:\n",
        "        return 0\n",
        "\n",
        "    prime_sum = 0\n",
        "\n",
        "    for number in range(2, n + 1):\n",
        "        is_prime = True\n",
        "\n",
        "        for divisor in range(2, int(number**0.5) + 1):\n",
        "            if number % divisor == 0:\n",
        "                is_prime = False\n",
        "                break\n",
        "        if is_prime:\n",
        "            prime_sum += number\n",
        "\n",
        "    return prime_sum\n",
        "\n",
        "print(sum_prime_numbers(10))"
      ],
      "metadata": {
        "colab": {
          "base_uri": "https://localhost:8080/"
        },
        "id": "jxQr3_K-CWhX",
        "outputId": "3101306d-46e6-448c-f49d-5bbf7d60d07a"
      },
      "execution_count": null,
      "outputs": [
        {
          "output_type": "stream",
          "name": "stdout",
          "text": [
            "17\n"
          ]
        }
      ]
    }
  ]
}