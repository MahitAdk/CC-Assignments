{
  "nbformat": 4,
  "nbformat_minor": 0,
  "metadata": {
    "colab": {
      "provenance": []
    },
    "kernelspec": {
      "name": "python3",
      "display_name": "Python 3"
    },
    "language_info": {
      "name": "python"
    }
  },
  "cells": [
    {
      "cell_type": "code",
      "source": [
        "#Assignment 8\n",
        "import pandas as pd\n",
        "import numpy as np\n",
        "from sklearn import datasets\n",
        "from sklearn.model_selection import train_test_split\n",
        "from sklearn.preprocessing import StandardScaler\n",
        "from sklearn.linear_model import LogisticRegression\n",
        "from sklearn.metrics import accuracy_score, classification_report\n",
        "\n",
        "\n",
        "iris=datasets.load_iris()\n",
        "X=iris.data\n",
        "Y=iris.target#X contains features and Y contain label\n",
        "Y=iris.target.astype(int)\n",
        "\n",
        "X_train,X_test,Y_train,Y_test=train_test_split(X,Y,test_size=0.3,random_state=43)\n",
        "Y_train=Y_train.astype(int)\n",
        "\n",
        "scaler=StandardScaler()\n",
        "X_train=scaler.fit_transform(X_train)\n",
        "X_test=scaler.transform(X_test)\n",
        "\n",
        "#\n",
        "\n",
        "from sklearn.multiclass import OneVsRestClassifier\n",
        "model = OneVsRestClassifier(LogisticRegression(solver='lbfgs',max_iter=300))\n",
        "model.fit(X_train,Y_train)\n",
        "\n",
        "\n",
        "\n",
        "y_pred=model.predict(X_test)\n",
        "\n",
        "#\n",
        "accuracy=accuracy_score(Y_test,y_pred)\n",
        "print(f'{accuracy:.2f}')\n",
        "\n",
        "#\n",
        "\n",
        "print(\"Unique values in y_test:\", np.unique(Y_test))\n",
        "print(\"Unique values in y_pred:\", np.unique(y_pred))\n",
        "print(\"Length of target_names:\", len(iris.target_names))\n",
        "\n",
        "#\n",
        "print(classification_report(Y_test,y_pred,labels=np.unique(Y_test),target_names=iris.target_names))\n"
      ],
      "metadata": {
        "colab": {
          "base_uri": "https://localhost:8080/"
        },
        "id": "yT1sWP3X4_aJ",
        "outputId": "bcc2ba88-e73a-4845-cc50-5ec44db8e4e1"
      },
      "execution_count": 11,
      "outputs": [
        {
          "output_type": "stream",
          "name": "stdout",
          "text": [
            "0.96\n",
            "Unique values in y_test: [0 1 2]\n",
            "Unique values in y_pred: [0 1 2]\n",
            "Length of target_names: 3\n",
            "              precision    recall  f1-score   support\n",
            "\n",
            "      setosa       1.00      1.00      1.00        15\n",
            "  versicolor       0.94      0.94      0.94        17\n",
            "   virginica       0.92      0.92      0.92        13\n",
            "\n",
            "    accuracy                           0.96        45\n",
            "   macro avg       0.95      0.95      0.95        45\n",
            "weighted avg       0.96      0.96      0.96        45\n",
            "\n"
          ]
        }
      ]
    }
  ]
}