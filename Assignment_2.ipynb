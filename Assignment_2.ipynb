{
  "nbformat": 4,
  "nbformat_minor": 0,
  "metadata": {
    "colab": {
      "provenance": []
    },
    "kernelspec": {
      "name": "python3",
      "display_name": "Python 3"
    },
    "language_info": {
      "name": "python"
    }
  },
  "cells": [
    {
      "cell_type": "markdown",
      "source": [
        "Assignment 2"
      ],
      "metadata": {
        "id": "gfqrle9EcQOB"
      }
    },
    {
      "cell_type": "code",
      "source": [
        "#Q1\n",
        "arr=[10,20,30,40,50,60,70,80]\n",
        "arr.append(200)\n",
        "arr.append(300)\n",
        "for i in arr:\n",
        "  print(i)\n",
        "arr.remove(10)\n",
        "arr.remove(30)\n",
        "print(arr)\n",
        "arr.sort(reverse=True)\n",
        "print(arr)"
      ],
      "metadata": {
        "colab": {
          "base_uri": "https://localhost:8080/"
        },
        "id": "gFuc51Y0cSYO",
        "outputId": "f0fbbfcf-1a87-4011-89a3-c449329720e9"
      },
      "execution_count": 1,
      "outputs": [
        {
          "output_type": "stream",
          "name": "stdout",
          "text": [
            "10\n",
            "20\n",
            "30\n",
            "40\n",
            "50\n",
            "60\n",
            "70\n",
            "80\n",
            "200\n",
            "300\n",
            "[20, 40, 50, 60, 70, 80, 200, 300]\n",
            "[300, 200, 80, 70, 60, 50, 40, 20]\n"
          ]
        }
      ]
    },
    {
      "cell_type": "code",
      "source": [
        "#Q2\n",
        "score=(45,89.5,76,45.4,89,92,58,45)\n",
        "print(max(score))\n",
        "print(score.count(min(score)))\n",
        "s1=list(score)\n",
        "s1[::-1]\n",
        "print(s1)\n",
        "\n",
        "User_input=76\n",
        "if User_input in score:\n",
        "  print(\"yes\")\n",
        "else:\n",
        "  print(\"no\")"
      ],
      "metadata": {
        "colab": {
          "base_uri": "https://localhost:8080/"
        },
        "id": "guNYeAyhcXiw",
        "outputId": "970f3cb2-0317-4769-860e-0736a665849b"
      },
      "execution_count": 2,
      "outputs": [
        {
          "output_type": "stream",
          "name": "stdout",
          "text": [
            "92\n",
            "2\n",
            "[45, 89.5, 76, 45.4, 89, 92, 58, 45]\n",
            "yes\n"
          ]
        }
      ]
    },
    {
      "cell_type": "code",
      "source": [
        "#Q3\n",
        "import random\n",
        "\n",
        "def is_prime(n):\n",
        "    if n <= 1:\n",
        "        return False\n",
        "    for i in range(2, int(n**0.5) + 1):\n",
        "        if n % i == 0:\n",
        "            return False\n",
        "    return True\n",
        "\n",
        "random_numbers = [random.randint(100, 900) for _ in range(100)]\n",
        "\n",
        "\n",
        "odd_numbers = []\n",
        "even_numbers = []\n",
        "prime_numbers = []\n",
        "\n",
        "\n",
        "for number in random_numbers:\n",
        "    if number % 2 == 0:\n",
        "        even_numbers.append(number)\n",
        "    else:\n",
        "        odd_numbers.append(number)\n",
        "\n",
        "    if is_prime(number):\n",
        "        prime_numbers.append(number)\n",
        "\n",
        "print(\"Random Numbers:\", random_numbers)\n",
        "print(\"\\nCount of Odd Numbers:\", len(odd_numbers))\n",
        "print(\"Odd Numbers:\", odd_numbers)\n",
        "print(\"\\nCount of Even Numbers:\", len(even_numbers))\n",
        "print(\"Even Numbers:\", even_numbers)\n",
        "print(\"\\nCount of Prime Numbers:\", len(prime_numbers))\n",
        "print(\"Prime Numbers:\",prime_numbers)"
      ],
      "metadata": {
        "colab": {
          "base_uri": "https://localhost:8080/"
        },
        "id": "qVWwVeprcaCu",
        "outputId": "c342f17f-f8e0-447a-8d61-4e6f078cd297"
      },
      "execution_count": 3,
      "outputs": [
        {
          "output_type": "stream",
          "name": "stdout",
          "text": [
            "Random Numbers: [878, 195, 561, 629, 872, 729, 829, 377, 719, 658, 747, 691, 690, 353, 324, 522, 106, 577, 835, 184, 731, 671, 153, 579, 835, 639, 701, 231, 845, 149, 686, 329, 137, 377, 598, 536, 377, 777, 555, 887, 899, 244, 148, 270, 617, 811, 317, 794, 419, 275, 616, 504, 436, 470, 350, 855, 363, 461, 761, 772, 461, 421, 863, 347, 275, 401, 407, 165, 255, 756, 355, 205, 260, 259, 131, 341, 792, 648, 312, 167, 532, 302, 854, 566, 695, 612, 701, 490, 538, 654, 731, 830, 210, 306, 517, 597, 540, 246, 768, 722]\n",
            "\n",
            "Count of Odd Numbers: 59\n",
            "Odd Numbers: [195, 561, 629, 729, 829, 377, 719, 747, 691, 353, 577, 835, 731, 671, 153, 579, 835, 639, 701, 231, 845, 149, 329, 137, 377, 377, 777, 555, 887, 899, 617, 811, 317, 419, 275, 855, 363, 461, 761, 461, 421, 863, 347, 275, 401, 407, 165, 255, 355, 205, 259, 131, 341, 167, 695, 701, 731, 517, 597]\n",
            "\n",
            "Count of Even Numbers: 41\n",
            "Even Numbers: [878, 872, 658, 690, 324, 522, 106, 184, 686, 598, 536, 244, 148, 270, 794, 616, 504, 436, 470, 350, 772, 756, 260, 792, 648, 312, 532, 302, 854, 566, 612, 490, 538, 654, 830, 210, 306, 540, 246, 768, 722]\n",
            "\n",
            "Count of Prime Numbers: 23\n",
            "Prime Numbers: [829, 719, 691, 353, 577, 701, 149, 137, 887, 617, 811, 317, 419, 461, 761, 461, 421, 863, 347, 401, 131, 167, 701]\n"
          ]
        }
      ]
    },
    {
      "cell_type": "code",
      "source": [
        "#Q4\n",
        "A={34,56,78,90}\n",
        "B={78,45,90,23}\n",
        "print(A.union(B))\n",
        "print(A.intersection(B))\n",
        "print(A.symmetric_difference(B))\n",
        "print(A.issubset(B))\n",
        "print(B.issuperset(A))\n",
        "\n",
        "x=int(input('Enter a number'))\n",
        "if x in A:\n",
        "  A.remove(x)\n",
        "else:\n",
        "  print('x is not present')"
      ],
      "metadata": {
        "colab": {
          "base_uri": "https://localhost:8080/"
        },
        "id": "WlIw3XcgcczX",
        "outputId": "78ca3694-403c-4c7f-eb8c-4450171eebc6"
      },
      "execution_count": 4,
      "outputs": [
        {
          "output_type": "stream",
          "name": "stdout",
          "text": [
            "{34, 45, 78, 23, 56, 90}\n",
            "{90, 78}\n",
            "{34, 45, 23, 56}\n",
            "False\n",
            "False\n",
            "Enter a number45\n",
            "x is not present\n"
          ]
        }
      ]
    },
    {
      "cell_type": "code",
      "source": [
        "#Q5\n",
        "dictt={\n",
        "    \"name\": \"Kelly\",\n",
        "    \"age\":25,\n",
        "    \"salary\": 8000,\n",
        "    \"city\": \"New york\"\n",
        "}\n",
        "dictt[\"location\"]=dictt.pop(\"city\")\n",
        "print(dictt)"
      ],
      "metadata": {
        "colab": {
          "base_uri": "https://localhost:8080/"
        },
        "id": "OfR4v4T3dFae",
        "outputId": "bca4b2ac-4fb9-43d8-8a54-5c54087aee22"
      },
      "execution_count": 5,
      "outputs": [
        {
          "output_type": "stream",
          "name": "stdout",
          "text": [
            "{'name': 'Kelly', 'age': 25, 'salary': 8000, 'location': 'New york'}\n"
          ]
        }
      ]
    }
  ]
}