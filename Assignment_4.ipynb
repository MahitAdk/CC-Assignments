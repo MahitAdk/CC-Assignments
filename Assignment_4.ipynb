{
  "nbformat": 4,
  "nbformat_minor": 0,
  "metadata": {
    "colab": {
      "provenance": []
    },
    "kernelspec": {
      "name": "python3",
      "display_name": "Python 3"
    },
    "language_info": {
      "name": "python"
    }
  },
  "cells": [
    {
      "cell_type": "markdown",
      "source": [
        "Assignment 4"
      ],
      "metadata": {
        "id": "T5A_CwgLiWCf"
      }
    },
    {
      "cell_type": "code",
      "source": [
        "#Q1\n",
        "import numpy as np\n",
        "\n",
        "# i.\n",
        "c = np.array([1,2,3,4,5])\n",
        "b = c+2\n",
        "print(b)\n",
        "\n",
        "# ii.\n",
        "d = c*3\n",
        "print(d)\n",
        "\n",
        "# iii.\n",
        "e = c/2\n",
        "print(e)"
      ],
      "metadata": {
        "colab": {
          "base_uri": "https://localhost:8080/"
        },
        "id": "PloG4ZUiiZRy",
        "outputId": "dba006e9-e7ec-49a0-e379-cd3ace26b538"
      },
      "execution_count": 1,
      "outputs": [
        {
          "output_type": "stream",
          "name": "stdout",
          "text": [
            "[3 4 5 6 7]\n",
            "[ 3  6  9 12 15]\n",
            "[0.5 1.  1.5 2.  2.5]\n"
          ]
        }
      ]
    },
    {
      "cell_type": "code",
      "source": [
        "#Q2\n",
        "import numpy as np\n",
        "\n",
        "# a.\n",
        "arr = np.array([1, 2, 3, 6, 4, 5])\n",
        "rev = np.flip(arr)\n",
        "print(\"Reversed Array:\",rev)\n",
        "\n",
        "# b.\n",
        "def most_frequent(arr):\n",
        "    values, counts = np.unique(arr, return_counts=True)\n",
        "    max_count = np.max(counts)\n",
        "    most_freq_val = values[counts == max_count][0]\n",
        "    indices = np.where(arr == most_freq_val)[0]\n",
        "    return most_freq_val, indices\n",
        "\n",
        "x = np.array([1, 2, 3, 4, 5, 1, 2, 1, 1, 1])\n",
        "y = np.array([1, 1, 1, 2, 3, 4, 2, 4, 3, 3])\n",
        "\n",
        "most_freq_x, indices_x = most_frequent(x)\n",
        "print(f\"Most frequent value in x: {most_freq_x}, Indices: {indices_x}\")\n",
        "\n",
        "most_freq_y, indices_y = most_frequent(y)\n",
        "print(f\"Most common value in y: {most_freq_y}, Indice: {indices_y}\")"
      ],
      "metadata": {
        "colab": {
          "base_uri": "https://localhost:8080/"
        },
        "id": "gJAMKpkFifrM",
        "outputId": "a08c9791-8a68-4481-911b-e855a85b5b41"
      },
      "execution_count": 3,
      "outputs": [
        {
          "output_type": "stream",
          "name": "stdout",
          "text": [
            "Reversed Array: [5 4 6 3 2 1]\n",
            "Most frequent value in x: 1, Indices: [0 5 7 8 9]\n",
            "Most common value in y: 1, Indice: [0 1 2]\n"
          ]
        }
      ]
    },
    {
      "cell_type": "code",
      "source": [
        "#Q3\n",
        "import numpy as np\n",
        "\n",
        "arr=np.array([[10, 20, 30], [40, 50, 60], [70, 80, 90]])\n",
        "\n",
        "print(\"Access 1st row, 2nd column: \", arr[0][1])\n",
        "print(\"Access 3rd row, 1st column: \", arr[2][0])"
      ],
      "metadata": {
        "colab": {
          "base_uri": "https://localhost:8080/"
        },
        "id": "bKHPwTCDi13L",
        "outputId": "a18b8b2e-ba97-4388-c2bf-41397ee3e25d"
      },
      "execution_count": 4,
      "outputs": [
        {
          "output_type": "stream",
          "name": "stdout",
          "text": [
            "Access 1st row, 2nd column:  20\n",
            "Access 3rd row, 1st column:  70\n"
          ]
        }
      ]
    },
    {
      "cell_type": "code",
      "source": [
        "#Q4\n",
        "import numpy as np\n",
        "\n",
        "Mahit = np.linspace(10, 100, 25)\n",
        "print(\"Array:\", Mahit)\n",
        "print(\"Dimensions:\", Mahit.ndim)\n",
        "print(\"Shape:\", Mahit.shape)\n",
        "print(\"Total elements:\", Mahit.size)\n",
        "print(\"Data type:\", Mahit.dtype)\n",
        "print(\"Total bytes consumed:\", Mahit.nbytes)\n",
        "Mahit_transpose = Mahit.reshape(25, 1)\n",
        "print(\"Transpose using reshape():\\n\", Mahit)\n",
        "print(Mahit_transpose.shape)\n",
        "\n",
        "print(\"Transposing a 1D array using the .T attribute does not change its shape. We need to explicitly create it 2D Array.\")\n",
        "Mahit = Mahit.reshape(1,25)\n",
        "print(\"Transpose using T attribute:\\n\", Mahit.T)"
      ],
      "metadata": {
        "colab": {
          "base_uri": "https://localhost:8080/"
        },
        "id": "lQt_agHZi7ti",
        "outputId": "70fe2d5a-20ac-4af2-c23e-03623586c882"
      },
      "execution_count": 5,
      "outputs": [
        {
          "output_type": "stream",
          "name": "stdout",
          "text": [
            "Array: [ 10.    13.75  17.5   21.25  25.    28.75  32.5   36.25  40.    43.75\n",
            "  47.5   51.25  55.    58.75  62.5   66.25  70.    73.75  77.5   81.25\n",
            "  85.    88.75  92.5   96.25 100.  ]\n",
            "Dimensions: 1\n",
            "Shape: (25,)\n",
            "Total elements: 25\n",
            "Data type: float64\n",
            "Total bytes consumed: 200\n",
            "Transpose using reshape():\n",
            " [ 10.    13.75  17.5   21.25  25.    28.75  32.5   36.25  40.    43.75\n",
            "  47.5   51.25  55.    58.75  62.5   66.25  70.    73.75  77.5   81.25\n",
            "  85.    88.75  92.5   96.25 100.  ]\n",
            "(25, 1)\n",
            "Transposing a 1D array using the .T attribute does not change its shape. We need to explicitly create it 2D Array.\n",
            "Transpose using T attribute:\n",
            " [[ 10.  ]\n",
            " [ 13.75]\n",
            " [ 17.5 ]\n",
            " [ 21.25]\n",
            " [ 25.  ]\n",
            " [ 28.75]\n",
            " [ 32.5 ]\n",
            " [ 36.25]\n",
            " [ 40.  ]\n",
            " [ 43.75]\n",
            " [ 47.5 ]\n",
            " [ 51.25]\n",
            " [ 55.  ]\n",
            " [ 58.75]\n",
            " [ 62.5 ]\n",
            " [ 66.25]\n",
            " [ 70.  ]\n",
            " [ 73.75]\n",
            " [ 77.5 ]\n",
            " [ 81.25]\n",
            " [ 85.  ]\n",
            " [ 88.75]\n",
            " [ 92.5 ]\n",
            " [ 96.25]\n",
            " [100.  ]]\n"
          ]
        }
      ]
    },
    {
      "cell_type": "code",
      "source": [
        "#Q5\n",
        "ucs420_Mahit = np.array([[10, 20, 30, 40], [50, 60, 70, 80], [90, 15, 20, 35]])\n",
        "print(\"Mean:\", np.mean(ucs420_Mahit))\n",
        "print(\"Median:\", np.median(ucs420_Mahit))\n",
        "print(\"Max:\", np.max(ucs420_Mahit))\n",
        "print(\"Min:\", np.min(ucs420_Mahit))\n",
        "print(\"Unique elements:\", np.unique(ucs420_Mahit))\n",
        "reshaped_ucs420_Mahit = ucs420_Mahit.reshape(4, 3)\n",
        "print(\"Reshaped (4x3):\\n\", reshaped_ucs420_Mahit)\n",
        "resized_ucs420_Mahit = np.resize(ucs420_Mahit, (2, 3))\n",
        "print(\"Resized (2x3):\\n\", resized_ucs420_Mahit)"
      ],
      "metadata": {
        "colab": {
          "base_uri": "https://localhost:8080/"
        },
        "id": "eENYFJ04jhNi",
        "outputId": "11cf578b-0c0c-4d11-bb7f-c7ff3b8fe8f5"
      },
      "execution_count": 6,
      "outputs": [
        {
          "output_type": "stream",
          "name": "stdout",
          "text": [
            "Mean: 43.333333333333336\n",
            "Median: 37.5\n",
            "Max: 90\n",
            "Min: 10\n",
            "Unique elements: [10 15 20 30 35 40 50 60 70 80 90]\n",
            "Reshaped (4x3):\n",
            " [[10 20 30]\n",
            " [40 50 60]\n",
            " [70 80 90]\n",
            " [15 20 35]]\n",
            "Resized (2x3):\n",
            " [[10 20 30]\n",
            " [40 50 60]]\n"
          ]
        }
      ]
    }
  ]
}